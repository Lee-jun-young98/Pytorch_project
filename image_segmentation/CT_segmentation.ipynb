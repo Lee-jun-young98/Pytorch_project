{
 "cells": [
  {
   "cell_type": "markdown",
   "id": "37c6892f",
   "metadata": {},
   "source": [
    "# CT 복원 영상에서 폐, 기도, 심장 영역을 가이드 해주는 딥러닝 모델 제작\n",
    "1. CT 이미지 데이터 살펴보기\n",
    "2. 텐서연산을 위한 데이터셋 구축\n",
    "3. U-Net 아키텍처 구현\n",
    "4. Cross-Entropy, Dice loss function 구현\n",
    "5. 최적화기법(SGDM) 적용\n",
    "6. Dice similarity coefficient 성능지표 구현\n",
    "7. 모델 학습코드 작성 및 학습\n",
    "8. 모델 테스트 및 Morphological filtering post-processing 적용"
   ]
  },
  {
   "cell_type": "markdown",
   "id": "d711808c",
   "metadata": {},
   "source": [
    "# 1. CT 이미지 데이터셋 살펴보기"
   ]
  },
  {
   "cell_type": "code",
   "execution_count": 53,
   "id": "180651c7",
   "metadata": {},
   "outputs": [],
   "source": [
    "import os\n",
    "import pandas as pd"
   ]
  },
  {
   "cell_type": "code",
   "execution_count": 54,
   "id": "4b23e7be",
   "metadata": {},
   "outputs": [
    {
     "data": {
      "text/html": [
       "<div>\n",
       "<style scoped>\n",
       "    .dataframe tbody tr th:only-of-type {\n",
       "        vertical-align: middle;\n",
       "    }\n",
       "\n",
       "    .dataframe tbody tr th {\n",
       "        vertical-align: top;\n",
       "    }\n",
       "\n",
       "    .dataframe thead th {\n",
       "        text-align: right;\n",
       "    }\n",
       "</style>\n",
       "<table border=\"1\" class=\"dataframe\">\n",
       "  <thead>\n",
       "    <tr style=\"text-align: right;\">\n",
       "      <th></th>\n",
       "      <th>ImageId</th>\n",
       "      <th>MaskId</th>\n",
       "    </tr>\n",
       "  </thead>\n",
       "  <tbody>\n",
       "    <tr>\n",
       "      <th>0</th>\n",
       "      <td>ID00007637202177411956430_0.jpg</td>\n",
       "      <td>ID00007637202177411956430_mask_0.jpg</td>\n",
       "    </tr>\n",
       "    <tr>\n",
       "      <th>1</th>\n",
       "      <td>ID00007637202177411956430_1.jpg</td>\n",
       "      <td>ID00007637202177411956430_mask_1.jpg</td>\n",
       "    </tr>\n",
       "    <tr>\n",
       "      <th>2</th>\n",
       "      <td>ID00007637202177411956430_2.jpg</td>\n",
       "      <td>ID00007637202177411956430_mask_2.jpg</td>\n",
       "    </tr>\n",
       "    <tr>\n",
       "      <th>3</th>\n",
       "      <td>ID00007637202177411956430_3.jpg</td>\n",
       "      <td>ID00007637202177411956430_mask_3.jpg</td>\n",
       "    </tr>\n",
       "    <tr>\n",
       "      <th>4</th>\n",
       "      <td>ID00007637202177411956430_4.jpg</td>\n",
       "      <td>ID00007637202177411956430_mask_4.jpg</td>\n",
       "    </tr>\n",
       "    <tr>\n",
       "      <th>...</th>\n",
       "      <td>...</td>\n",
       "      <td>...</td>\n",
       "    </tr>\n",
       "    <tr>\n",
       "      <th>16703</th>\n",
       "      <td>ID00426637202313170790466_403.jpg</td>\n",
       "      <td>ID00426637202313170790466_mask_403.jpg</td>\n",
       "    </tr>\n",
       "    <tr>\n",
       "      <th>16704</th>\n",
       "      <td>ID00426637202313170790466_404.jpg</td>\n",
       "      <td>ID00426637202313170790466_mask_404.jpg</td>\n",
       "    </tr>\n",
       "    <tr>\n",
       "      <th>16705</th>\n",
       "      <td>ID00426637202313170790466_405.jpg</td>\n",
       "      <td>ID00426637202313170790466_mask_405.jpg</td>\n",
       "    </tr>\n",
       "    <tr>\n",
       "      <th>16706</th>\n",
       "      <td>ID00426637202313170790466_406.jpg</td>\n",
       "      <td>ID00426637202313170790466_mask_406.jpg</td>\n",
       "    </tr>\n",
       "    <tr>\n",
       "      <th>16707</th>\n",
       "      <td>ID00426637202313170790466_407.jpg</td>\n",
       "      <td>ID00426637202313170790466_mask_407.jpg</td>\n",
       "    </tr>\n",
       "  </tbody>\n",
       "</table>\n",
       "<p>16708 rows × 2 columns</p>\n",
       "</div>"
      ],
      "text/plain": [
       "                                 ImageId  \\\n",
       "0        ID00007637202177411956430_0.jpg   \n",
       "1        ID00007637202177411956430_1.jpg   \n",
       "2        ID00007637202177411956430_2.jpg   \n",
       "3        ID00007637202177411956430_3.jpg   \n",
       "4        ID00007637202177411956430_4.jpg   \n",
       "...                                  ...   \n",
       "16703  ID00426637202313170790466_403.jpg   \n",
       "16704  ID00426637202313170790466_404.jpg   \n",
       "16705  ID00426637202313170790466_405.jpg   \n",
       "16706  ID00426637202313170790466_406.jpg   \n",
       "16707  ID00426637202313170790466_407.jpg   \n",
       "\n",
       "                                       MaskId  \n",
       "0        ID00007637202177411956430_mask_0.jpg  \n",
       "1        ID00007637202177411956430_mask_1.jpg  \n",
       "2        ID00007637202177411956430_mask_2.jpg  \n",
       "3        ID00007637202177411956430_mask_3.jpg  \n",
       "4        ID00007637202177411956430_mask_4.jpg  \n",
       "...                                       ...  \n",
       "16703  ID00426637202313170790466_mask_403.jpg  \n",
       "16704  ID00426637202313170790466_mask_404.jpg  \n",
       "16705  ID00426637202313170790466_mask_405.jpg  \n",
       "16706  ID00426637202313170790466_mask_406.jpg  \n",
       "16707  ID00426637202313170790466_mask_407.jpg  \n",
       "\n",
       "[16708 rows x 2 columns]"
      ]
     },
     "execution_count": 54,
     "metadata": {},
     "output_type": "execute_result"
    }
   ],
   "source": [
    "data_dir = \"./archive/\"\n",
    "data_df = pd.read_csv(os.path.join(data_dir, \"train.csv\"))\n",
    "data_df"
   ]
  },
  {
   "cell_type": "code",
   "execution_count": 55,
   "id": "aca48d60",
   "metadata": {},
   "outputs": [
    {
     "data": {
      "text/html": [
       "<div>\n",
       "<style scoped>\n",
       "    .dataframe tbody tr th:only-of-type {\n",
       "        vertical-align: middle;\n",
       "    }\n",
       "\n",
       "    .dataframe tbody tr th {\n",
       "        vertical-align: top;\n",
       "    }\n",
       "\n",
       "    .dataframe thead th {\n",
       "        text-align: right;\n",
       "    }\n",
       "</style>\n",
       "<table border=\"1\" class=\"dataframe\">\n",
       "  <thead>\n",
       "    <tr style=\"text-align: right;\">\n",
       "      <th></th>\n",
       "      <th>ImageId</th>\n",
       "      <th>MaskId</th>\n",
       "    </tr>\n",
       "  </thead>\n",
       "  <tbody>\n",
       "    <tr>\n",
       "      <th>0</th>\n",
       "      <td>ID00007637202177411956430_0.jpg</td>\n",
       "      <td>ID00007637202177411956430_mask_0.jpg</td>\n",
       "    </tr>\n",
       "    <tr>\n",
       "      <th>1</th>\n",
       "      <td>ID00007637202177411956430_1.jpg</td>\n",
       "      <td>ID00007637202177411956430_mask_1.jpg</td>\n",
       "    </tr>\n",
       "    <tr>\n",
       "      <th>2</th>\n",
       "      <td>ID00007637202177411956430_2.jpg</td>\n",
       "      <td>ID00007637202177411956430_mask_2.jpg</td>\n",
       "    </tr>\n",
       "    <tr>\n",
       "      <th>3</th>\n",
       "      <td>ID00007637202177411956430_3.jpg</td>\n",
       "      <td>ID00007637202177411956430_mask_3.jpg</td>\n",
       "    </tr>\n",
       "    <tr>\n",
       "      <th>4</th>\n",
       "      <td>ID00007637202177411956430_4.jpg</td>\n",
       "      <td>ID00007637202177411956430_mask_4.jpg</td>\n",
       "    </tr>\n",
       "    <tr>\n",
       "      <th>5</th>\n",
       "      <td>ID00007637202177411956430_5.jpg</td>\n",
       "      <td>ID00007637202177411956430_mask_5.jpg</td>\n",
       "    </tr>\n",
       "    <tr>\n",
       "      <th>6</th>\n",
       "      <td>ID00007637202177411956430_6.jpg</td>\n",
       "      <td>ID00007637202177411956430_mask_6.jpg</td>\n",
       "    </tr>\n",
       "    <tr>\n",
       "      <th>7</th>\n",
       "      <td>ID00007637202177411956430_7.jpg</td>\n",
       "      <td>ID00007637202177411956430_mask_7.jpg</td>\n",
       "    </tr>\n",
       "    <tr>\n",
       "      <th>8</th>\n",
       "      <td>ID00007637202177411956430_8.jpg</td>\n",
       "      <td>ID00007637202177411956430_mask_8.jpg</td>\n",
       "    </tr>\n",
       "    <tr>\n",
       "      <th>9</th>\n",
       "      <td>ID00007637202177411956430_9.jpg</td>\n",
       "      <td>ID00007637202177411956430_mask_9.jpg</td>\n",
       "    </tr>\n",
       "    <tr>\n",
       "      <th>10</th>\n",
       "      <td>ID00007637202177411956430_10.jpg</td>\n",
       "      <td>ID00007637202177411956430_mask_10.jpg</td>\n",
       "    </tr>\n",
       "    <tr>\n",
       "      <th>11</th>\n",
       "      <td>ID00007637202177411956430_11.jpg</td>\n",
       "      <td>ID00007637202177411956430_mask_11.jpg</td>\n",
       "    </tr>\n",
       "    <tr>\n",
       "      <th>12</th>\n",
       "      <td>ID00007637202177411956430_12.jpg</td>\n",
       "      <td>ID00007637202177411956430_mask_12.jpg</td>\n",
       "    </tr>\n",
       "    <tr>\n",
       "      <th>13</th>\n",
       "      <td>ID00007637202177411956430_13.jpg</td>\n",
       "      <td>ID00007637202177411956430_mask_13.jpg</td>\n",
       "    </tr>\n",
       "    <tr>\n",
       "      <th>14</th>\n",
       "      <td>ID00007637202177411956430_14.jpg</td>\n",
       "      <td>ID00007637202177411956430_mask_14.jpg</td>\n",
       "    </tr>\n",
       "    <tr>\n",
       "      <th>15</th>\n",
       "      <td>ID00007637202177411956430_15.jpg</td>\n",
       "      <td>ID00007637202177411956430_mask_15.jpg</td>\n",
       "    </tr>\n",
       "    <tr>\n",
       "      <th>16</th>\n",
       "      <td>ID00007637202177411956430_16.jpg</td>\n",
       "      <td>ID00007637202177411956430_mask_16.jpg</td>\n",
       "    </tr>\n",
       "    <tr>\n",
       "      <th>17</th>\n",
       "      <td>ID00007637202177411956430_17.jpg</td>\n",
       "      <td>ID00007637202177411956430_mask_17.jpg</td>\n",
       "    </tr>\n",
       "    <tr>\n",
       "      <th>18</th>\n",
       "      <td>ID00007637202177411956430_18.jpg</td>\n",
       "      <td>ID00007637202177411956430_mask_18.jpg</td>\n",
       "    </tr>\n",
       "    <tr>\n",
       "      <th>19</th>\n",
       "      <td>ID00007637202177411956430_19.jpg</td>\n",
       "      <td>ID00007637202177411956430_mask_19.jpg</td>\n",
       "    </tr>\n",
       "    <tr>\n",
       "      <th>20</th>\n",
       "      <td>ID00007637202177411956430_20.jpg</td>\n",
       "      <td>ID00007637202177411956430_mask_20.jpg</td>\n",
       "    </tr>\n",
       "    <tr>\n",
       "      <th>21</th>\n",
       "      <td>ID00007637202177411956430_21.jpg</td>\n",
       "      <td>ID00007637202177411956430_mask_21.jpg</td>\n",
       "    </tr>\n",
       "    <tr>\n",
       "      <th>22</th>\n",
       "      <td>ID00007637202177411956430_22.jpg</td>\n",
       "      <td>ID00007637202177411956430_mask_22.jpg</td>\n",
       "    </tr>\n",
       "    <tr>\n",
       "      <th>23</th>\n",
       "      <td>ID00007637202177411956430_23.jpg</td>\n",
       "      <td>ID00007637202177411956430_mask_23.jpg</td>\n",
       "    </tr>\n",
       "    <tr>\n",
       "      <th>24</th>\n",
       "      <td>ID00007637202177411956430_24.jpg</td>\n",
       "      <td>ID00007637202177411956430_mask_24.jpg</td>\n",
       "    </tr>\n",
       "    <tr>\n",
       "      <th>25</th>\n",
       "      <td>ID00007637202177411956430_25.jpg</td>\n",
       "      <td>ID00007637202177411956430_mask_25.jpg</td>\n",
       "    </tr>\n",
       "    <tr>\n",
       "      <th>26</th>\n",
       "      <td>ID00007637202177411956430_26.jpg</td>\n",
       "      <td>ID00007637202177411956430_mask_26.jpg</td>\n",
       "    </tr>\n",
       "    <tr>\n",
       "      <th>27</th>\n",
       "      <td>ID00007637202177411956430_27.jpg</td>\n",
       "      <td>ID00007637202177411956430_mask_27.jpg</td>\n",
       "    </tr>\n",
       "    <tr>\n",
       "      <th>28</th>\n",
       "      <td>ID00007637202177411956430_28.jpg</td>\n",
       "      <td>ID00007637202177411956430_mask_28.jpg</td>\n",
       "    </tr>\n",
       "    <tr>\n",
       "      <th>29</th>\n",
       "      <td>ID00007637202177411956430_29.jpg</td>\n",
       "      <td>ID00007637202177411956430_mask_29.jpg</td>\n",
       "    </tr>\n",
       "    <tr>\n",
       "      <th>30</th>\n",
       "      <td>ID00009637202177434476278_0.jpg</td>\n",
       "      <td>ID00009637202177434476278_mask_0.jpg</td>\n",
       "    </tr>\n",
       "    <tr>\n",
       "      <th>31</th>\n",
       "      <td>ID00009637202177434476278_1.jpg</td>\n",
       "      <td>ID00009637202177434476278_mask_1.jpg</td>\n",
       "    </tr>\n",
       "    <tr>\n",
       "      <th>32</th>\n",
       "      <td>ID00009637202177434476278_2.jpg</td>\n",
       "      <td>ID00009637202177434476278_mask_2.jpg</td>\n",
       "    </tr>\n",
       "    <tr>\n",
       "      <th>33</th>\n",
       "      <td>ID00009637202177434476278_3.jpg</td>\n",
       "      <td>ID00009637202177434476278_mask_3.jpg</td>\n",
       "    </tr>\n",
       "    <tr>\n",
       "      <th>34</th>\n",
       "      <td>ID00009637202177434476278_4.jpg</td>\n",
       "      <td>ID00009637202177434476278_mask_4.jpg</td>\n",
       "    </tr>\n",
       "    <tr>\n",
       "      <th>35</th>\n",
       "      <td>ID00009637202177434476278_5.jpg</td>\n",
       "      <td>ID00009637202177434476278_mask_5.jpg</td>\n",
       "    </tr>\n",
       "    <tr>\n",
       "      <th>36</th>\n",
       "      <td>ID00009637202177434476278_6.jpg</td>\n",
       "      <td>ID00009637202177434476278_mask_6.jpg</td>\n",
       "    </tr>\n",
       "    <tr>\n",
       "      <th>37</th>\n",
       "      <td>ID00009637202177434476278_7.jpg</td>\n",
       "      <td>ID00009637202177434476278_mask_7.jpg</td>\n",
       "    </tr>\n",
       "    <tr>\n",
       "      <th>38</th>\n",
       "      <td>ID00009637202177434476278_8.jpg</td>\n",
       "      <td>ID00009637202177434476278_mask_8.jpg</td>\n",
       "    </tr>\n",
       "    <tr>\n",
       "      <th>39</th>\n",
       "      <td>ID00009637202177434476278_9.jpg</td>\n",
       "      <td>ID00009637202177434476278_mask_9.jpg</td>\n",
       "    </tr>\n",
       "    <tr>\n",
       "      <th>40</th>\n",
       "      <td>ID00009637202177434476278_10.jpg</td>\n",
       "      <td>ID00009637202177434476278_mask_10.jpg</td>\n",
       "    </tr>\n",
       "    <tr>\n",
       "      <th>41</th>\n",
       "      <td>ID00009637202177434476278_11.jpg</td>\n",
       "      <td>ID00009637202177434476278_mask_11.jpg</td>\n",
       "    </tr>\n",
       "    <tr>\n",
       "      <th>42</th>\n",
       "      <td>ID00009637202177434476278_12.jpg</td>\n",
       "      <td>ID00009637202177434476278_mask_12.jpg</td>\n",
       "    </tr>\n",
       "    <tr>\n",
       "      <th>43</th>\n",
       "      <td>ID00009637202177434476278_13.jpg</td>\n",
       "      <td>ID00009637202177434476278_mask_13.jpg</td>\n",
       "    </tr>\n",
       "    <tr>\n",
       "      <th>44</th>\n",
       "      <td>ID00009637202177434476278_14.jpg</td>\n",
       "      <td>ID00009637202177434476278_mask_14.jpg</td>\n",
       "    </tr>\n",
       "    <tr>\n",
       "      <th>45</th>\n",
       "      <td>ID00009637202177434476278_15.jpg</td>\n",
       "      <td>ID00009637202177434476278_mask_15.jpg</td>\n",
       "    </tr>\n",
       "    <tr>\n",
       "      <th>46</th>\n",
       "      <td>ID00009637202177434476278_16.jpg</td>\n",
       "      <td>ID00009637202177434476278_mask_16.jpg</td>\n",
       "    </tr>\n",
       "    <tr>\n",
       "      <th>47</th>\n",
       "      <td>ID00009637202177434476278_17.jpg</td>\n",
       "      <td>ID00009637202177434476278_mask_17.jpg</td>\n",
       "    </tr>\n",
       "    <tr>\n",
       "      <th>48</th>\n",
       "      <td>ID00009637202177434476278_18.jpg</td>\n",
       "      <td>ID00009637202177434476278_mask_18.jpg</td>\n",
       "    </tr>\n",
       "    <tr>\n",
       "      <th>49</th>\n",
       "      <td>ID00009637202177434476278_19.jpg</td>\n",
       "      <td>ID00009637202177434476278_mask_19.jpg</td>\n",
       "    </tr>\n",
       "  </tbody>\n",
       "</table>\n",
       "</div>"
      ],
      "text/plain": [
       "                             ImageId                                 MaskId\n",
       "0    ID00007637202177411956430_0.jpg   ID00007637202177411956430_mask_0.jpg\n",
       "1    ID00007637202177411956430_1.jpg   ID00007637202177411956430_mask_1.jpg\n",
       "2    ID00007637202177411956430_2.jpg   ID00007637202177411956430_mask_2.jpg\n",
       "3    ID00007637202177411956430_3.jpg   ID00007637202177411956430_mask_3.jpg\n",
       "4    ID00007637202177411956430_4.jpg   ID00007637202177411956430_mask_4.jpg\n",
       "5    ID00007637202177411956430_5.jpg   ID00007637202177411956430_mask_5.jpg\n",
       "6    ID00007637202177411956430_6.jpg   ID00007637202177411956430_mask_6.jpg\n",
       "7    ID00007637202177411956430_7.jpg   ID00007637202177411956430_mask_7.jpg\n",
       "8    ID00007637202177411956430_8.jpg   ID00007637202177411956430_mask_8.jpg\n",
       "9    ID00007637202177411956430_9.jpg   ID00007637202177411956430_mask_9.jpg\n",
       "10  ID00007637202177411956430_10.jpg  ID00007637202177411956430_mask_10.jpg\n",
       "11  ID00007637202177411956430_11.jpg  ID00007637202177411956430_mask_11.jpg\n",
       "12  ID00007637202177411956430_12.jpg  ID00007637202177411956430_mask_12.jpg\n",
       "13  ID00007637202177411956430_13.jpg  ID00007637202177411956430_mask_13.jpg\n",
       "14  ID00007637202177411956430_14.jpg  ID00007637202177411956430_mask_14.jpg\n",
       "15  ID00007637202177411956430_15.jpg  ID00007637202177411956430_mask_15.jpg\n",
       "16  ID00007637202177411956430_16.jpg  ID00007637202177411956430_mask_16.jpg\n",
       "17  ID00007637202177411956430_17.jpg  ID00007637202177411956430_mask_17.jpg\n",
       "18  ID00007637202177411956430_18.jpg  ID00007637202177411956430_mask_18.jpg\n",
       "19  ID00007637202177411956430_19.jpg  ID00007637202177411956430_mask_19.jpg\n",
       "20  ID00007637202177411956430_20.jpg  ID00007637202177411956430_mask_20.jpg\n",
       "21  ID00007637202177411956430_21.jpg  ID00007637202177411956430_mask_21.jpg\n",
       "22  ID00007637202177411956430_22.jpg  ID00007637202177411956430_mask_22.jpg\n",
       "23  ID00007637202177411956430_23.jpg  ID00007637202177411956430_mask_23.jpg\n",
       "24  ID00007637202177411956430_24.jpg  ID00007637202177411956430_mask_24.jpg\n",
       "25  ID00007637202177411956430_25.jpg  ID00007637202177411956430_mask_25.jpg\n",
       "26  ID00007637202177411956430_26.jpg  ID00007637202177411956430_mask_26.jpg\n",
       "27  ID00007637202177411956430_27.jpg  ID00007637202177411956430_mask_27.jpg\n",
       "28  ID00007637202177411956430_28.jpg  ID00007637202177411956430_mask_28.jpg\n",
       "29  ID00007637202177411956430_29.jpg  ID00007637202177411956430_mask_29.jpg\n",
       "30   ID00009637202177434476278_0.jpg   ID00009637202177434476278_mask_0.jpg\n",
       "31   ID00009637202177434476278_1.jpg   ID00009637202177434476278_mask_1.jpg\n",
       "32   ID00009637202177434476278_2.jpg   ID00009637202177434476278_mask_2.jpg\n",
       "33   ID00009637202177434476278_3.jpg   ID00009637202177434476278_mask_3.jpg\n",
       "34   ID00009637202177434476278_4.jpg   ID00009637202177434476278_mask_4.jpg\n",
       "35   ID00009637202177434476278_5.jpg   ID00009637202177434476278_mask_5.jpg\n",
       "36   ID00009637202177434476278_6.jpg   ID00009637202177434476278_mask_6.jpg\n",
       "37   ID00009637202177434476278_7.jpg   ID00009637202177434476278_mask_7.jpg\n",
       "38   ID00009637202177434476278_8.jpg   ID00009637202177434476278_mask_8.jpg\n",
       "39   ID00009637202177434476278_9.jpg   ID00009637202177434476278_mask_9.jpg\n",
       "40  ID00009637202177434476278_10.jpg  ID00009637202177434476278_mask_10.jpg\n",
       "41  ID00009637202177434476278_11.jpg  ID00009637202177434476278_mask_11.jpg\n",
       "42  ID00009637202177434476278_12.jpg  ID00009637202177434476278_mask_12.jpg\n",
       "43  ID00009637202177434476278_13.jpg  ID00009637202177434476278_mask_13.jpg\n",
       "44  ID00009637202177434476278_14.jpg  ID00009637202177434476278_mask_14.jpg\n",
       "45  ID00009637202177434476278_15.jpg  ID00009637202177434476278_mask_15.jpg\n",
       "46  ID00009637202177434476278_16.jpg  ID00009637202177434476278_mask_16.jpg\n",
       "47  ID00009637202177434476278_17.jpg  ID00009637202177434476278_mask_17.jpg\n",
       "48  ID00009637202177434476278_18.jpg  ID00009637202177434476278_mask_18.jpg\n",
       "49  ID00009637202177434476278_19.jpg  ID00009637202177434476278_mask_19.jpg"
      ]
     },
     "execution_count": 55,
     "metadata": {},
     "output_type": "execute_result"
    }
   ],
   "source": [
    "data_df.head(50)"
   ]
  },
  {
   "cell_type": "code",
   "execution_count": 56,
   "id": "19ffd6e4",
   "metadata": {},
   "outputs": [],
   "source": [
    "def extract_client_id(x):\n",
    "    return x.split(\"_\")[0]\n",
    "\n",
    "data_df['Id'] = data_df.ImageId.apply(lambda x:extract_client_id(x))"
   ]
  },
  {
   "cell_type": "code",
   "execution_count": 57,
   "id": "68d8f7e4",
   "metadata": {},
   "outputs": [
    {
     "data": {
      "text/html": [
       "<div>\n",
       "<style scoped>\n",
       "    .dataframe tbody tr th:only-of-type {\n",
       "        vertical-align: middle;\n",
       "    }\n",
       "\n",
       "    .dataframe tbody tr th {\n",
       "        vertical-align: top;\n",
       "    }\n",
       "\n",
       "    .dataframe thead th {\n",
       "        text-align: right;\n",
       "    }\n",
       "</style>\n",
       "<table border=\"1\" class=\"dataframe\">\n",
       "  <thead>\n",
       "    <tr style=\"text-align: right;\">\n",
       "      <th></th>\n",
       "      <th>ImageId</th>\n",
       "      <th>MaskId</th>\n",
       "      <th>Id</th>\n",
       "    </tr>\n",
       "  </thead>\n",
       "  <tbody>\n",
       "    <tr>\n",
       "      <th>0</th>\n",
       "      <td>ID00007637202177411956430_0.jpg</td>\n",
       "      <td>ID00007637202177411956430_mask_0.jpg</td>\n",
       "      <td>ID00007637202177411956430</td>\n",
       "    </tr>\n",
       "    <tr>\n",
       "      <th>1</th>\n",
       "      <td>ID00007637202177411956430_1.jpg</td>\n",
       "      <td>ID00007637202177411956430_mask_1.jpg</td>\n",
       "      <td>ID00007637202177411956430</td>\n",
       "    </tr>\n",
       "    <tr>\n",
       "      <th>2</th>\n",
       "      <td>ID00007637202177411956430_2.jpg</td>\n",
       "      <td>ID00007637202177411956430_mask_2.jpg</td>\n",
       "      <td>ID00007637202177411956430</td>\n",
       "    </tr>\n",
       "    <tr>\n",
       "      <th>3</th>\n",
       "      <td>ID00007637202177411956430_3.jpg</td>\n",
       "      <td>ID00007637202177411956430_mask_3.jpg</td>\n",
       "      <td>ID00007637202177411956430</td>\n",
       "    </tr>\n",
       "    <tr>\n",
       "      <th>4</th>\n",
       "      <td>ID00007637202177411956430_4.jpg</td>\n",
       "      <td>ID00007637202177411956430_mask_4.jpg</td>\n",
       "      <td>ID00007637202177411956430</td>\n",
       "    </tr>\n",
       "    <tr>\n",
       "      <th>...</th>\n",
       "      <td>...</td>\n",
       "      <td>...</td>\n",
       "      <td>...</td>\n",
       "    </tr>\n",
       "    <tr>\n",
       "      <th>16703</th>\n",
       "      <td>ID00426637202313170790466_403.jpg</td>\n",
       "      <td>ID00426637202313170790466_mask_403.jpg</td>\n",
       "      <td>ID00426637202313170790466</td>\n",
       "    </tr>\n",
       "    <tr>\n",
       "      <th>16704</th>\n",
       "      <td>ID00426637202313170790466_404.jpg</td>\n",
       "      <td>ID00426637202313170790466_mask_404.jpg</td>\n",
       "      <td>ID00426637202313170790466</td>\n",
       "    </tr>\n",
       "    <tr>\n",
       "      <th>16705</th>\n",
       "      <td>ID00426637202313170790466_405.jpg</td>\n",
       "      <td>ID00426637202313170790466_mask_405.jpg</td>\n",
       "      <td>ID00426637202313170790466</td>\n",
       "    </tr>\n",
       "    <tr>\n",
       "      <th>16706</th>\n",
       "      <td>ID00426637202313170790466_406.jpg</td>\n",
       "      <td>ID00426637202313170790466_mask_406.jpg</td>\n",
       "      <td>ID00426637202313170790466</td>\n",
       "    </tr>\n",
       "    <tr>\n",
       "      <th>16707</th>\n",
       "      <td>ID00426637202313170790466_407.jpg</td>\n",
       "      <td>ID00426637202313170790466_mask_407.jpg</td>\n",
       "      <td>ID00426637202313170790466</td>\n",
       "    </tr>\n",
       "  </tbody>\n",
       "</table>\n",
       "<p>16708 rows × 3 columns</p>\n",
       "</div>"
      ],
      "text/plain": [
       "                                 ImageId  \\\n",
       "0        ID00007637202177411956430_0.jpg   \n",
       "1        ID00007637202177411956430_1.jpg   \n",
       "2        ID00007637202177411956430_2.jpg   \n",
       "3        ID00007637202177411956430_3.jpg   \n",
       "4        ID00007637202177411956430_4.jpg   \n",
       "...                                  ...   \n",
       "16703  ID00426637202313170790466_403.jpg   \n",
       "16704  ID00426637202313170790466_404.jpg   \n",
       "16705  ID00426637202313170790466_405.jpg   \n",
       "16706  ID00426637202313170790466_406.jpg   \n",
       "16707  ID00426637202313170790466_407.jpg   \n",
       "\n",
       "                                       MaskId                         Id  \n",
       "0        ID00007637202177411956430_mask_0.jpg  ID00007637202177411956430  \n",
       "1        ID00007637202177411956430_mask_1.jpg  ID00007637202177411956430  \n",
       "2        ID00007637202177411956430_mask_2.jpg  ID00007637202177411956430  \n",
       "3        ID00007637202177411956430_mask_3.jpg  ID00007637202177411956430  \n",
       "4        ID00007637202177411956430_mask_4.jpg  ID00007637202177411956430  \n",
       "...                                       ...                        ...  \n",
       "16703  ID00426637202313170790466_mask_403.jpg  ID00426637202313170790466  \n",
       "16704  ID00426637202313170790466_mask_404.jpg  ID00426637202313170790466  \n",
       "16705  ID00426637202313170790466_mask_405.jpg  ID00426637202313170790466  \n",
       "16706  ID00426637202313170790466_mask_406.jpg  ID00426637202313170790466  \n",
       "16707  ID00426637202313170790466_mask_407.jpg  ID00426637202313170790466  \n",
       "\n",
       "[16708 rows x 3 columns]"
      ]
     },
     "execution_count": 57,
     "metadata": {},
     "output_type": "execute_result"
    }
   ],
   "source": [
    "data_df"
   ]
  },
  {
   "cell_type": "code",
   "execution_count": 70,
   "id": "b2f3bd0f",
   "metadata": {},
   "outputs": [],
   "source": [
    "import numpy as np"
   ]
  },
  {
   "cell_type": "code",
   "execution_count": 71,
   "id": "962998f3",
   "metadata": {},
   "outputs": [
    {
     "name": "stdout",
     "output_type": "stream",
     "text": [
      "112\n"
     ]
    }
   ],
   "source": [
    "# 총 112명의 client 아이디가 있음\n",
    "client_ids = np.unique(data_df.Id.values)\n",
    "print(len(client_ids))"
   ]
  },
  {
   "cell_type": "code",
   "execution_count": 60,
   "id": "779bdbd4",
   "metadata": {},
   "outputs": [],
   "source": [
    "import cv2\n",
    "import matplotlib.pyplot as plt"
   ]
  },
  {
   "cell_type": "code",
   "execution_count": 66,
   "id": "0662de02",
   "metadata": {},
   "outputs": [],
   "source": [
    "# 0번째 client_ids에 해당하는 데이터를 가져와 그 조건에 맞는 [ImageId, MaskId] 추출\n",
    "index = 111\n",
    "client_data = data_df[data_df.Id == client_ids[index]][[\"ImageId\", \"MaskId\"]]"
   ]
  },
  {
   "cell_type": "code",
   "execution_count": 68,
   "id": "b689e270",
   "metadata": {},
   "outputs": [
    {
     "data": {
      "text/plain": [
       "34"
      ]
     },
     "execution_count": 68,
     "metadata": {},
     "output_type": "execute_result"
    }
   ],
   "source": [
    "round(112 * 0.3)"
   ]
  },
  {
   "cell_type": "code",
   "execution_count": 74,
   "id": "9cd3f191",
   "metadata": {},
   "outputs": [],
   "source": [
    "val_index = np.random.choice(range(0, len(client_ids)), int(len(client_ids)*0.3), replace=False)"
   ]
  },
  {
   "cell_type": "code",
   "execution_count": 75,
   "id": "3cceba49",
   "metadata": {},
   "outputs": [
    {
     "data": {
      "text/plain": [
       "array([ 62,  88,  84,  24,  12,  73,  18,   6,  65,  47,  26,  46, 103,\n",
       "       107,  14,   4,  79,  35,  69,  61,  15,  78,  17,  40,  33, 108,\n",
       "        95,  60,  48,  92,  85,  98, 111])"
      ]
     },
     "execution_count": 75,
     "metadata": {},
     "output_type": "execute_result"
    }
   ],
   "source": [
    "val_index"
   ]
  },
  {
   "cell_type": "code",
   "execution_count": 91,
   "id": "099c080a",
   "metadata": {},
   "outputs": [
    {
     "name": "stdout",
     "output_type": "stream",
     "text": [
      "[0, 1, 2, 3, 4, 5, 6, 7, 8, 9, 10, 11, 12, 13, 14, 15, 16, 17, 18, 19, 20, 21, 22, 23, 24, 25, 26, 27, 28, 29, 30, 31, 32, 33, 34, 35, 36, 37, 38, 39, 40, 41, 42, 43, 44, 45, 46, 47, 48, 49, 50, 51, 52, 53, 54, 55, 56, 57, 58, 59, 60, 61, 62, 63, 64, 65, 66, 67, 68, 69, 70, 71, 72, 73, 74, 75, 76, 77, 78, 79, 80, 81, 82, 83, 84, 85, 86, 87, 88, 89, 90, 91, 92, 93, 94, 95, 96, 97, 98, 99, 100, 101, 102, 103, 104, 105, 106, 107, 108, 109, 110, 111]\n"
     ]
    }
   ],
   "source": [
    "client_index = [i for i in range(len(client_ids))]\n",
    "print(client_index)"
   ]
  },
  {
   "cell_type": "code",
   "execution_count": 93,
   "id": "466426be",
   "metadata": {
    "scrolled": true
   },
   "outputs": [
    {
     "name": "stdout",
     "output_type": "stream",
     "text": [
      "[0, 1, 2, 3, 5, 7, 8, 9, 10, 11, 13, 16, 19, 20, 21, 22, 23, 25, 27, 28, 29, 30, 31, 32, 34, 36, 37, 38, 39, 41, 42, 43, 44, 45, 49, 50, 51, 52, 53, 54, 55, 56, 57, 58, 59, 63, 64, 66, 67, 68, 70, 71, 72, 74, 75, 76, 77, 80, 81, 82, 83, 86, 87, 89, 90, 91, 93, 94, 96, 97, 99, 100, 101, 102, 104, 105, 106, 109, 110]\n"
     ]
    }
   ],
   "source": [
    "train_index = list(set(client_index) - set(val_index))\n",
    "print(train_index)"
   ]
  },
  {
   "cell_type": "code",
   "execution_count": 99,
   "id": "fb85ed97",
   "metadata": {},
   "outputs": [],
   "source": [
    "train_data = pd.DataFrame(columns = [\"ImageId\", \"MaskId\"])\n",
    "for train in train_index:\n",
    "    train_data = pd.concat([train_data, data_df[data_df.Id == client_ids[train]][[\"ImageId\", \"MaskId\"]]])"
   ]
  },
  {
   "cell_type": "code",
   "execution_count": 100,
   "id": "4b023a5c",
   "metadata": {},
   "outputs": [],
   "source": [
    "val_data = pd.DataFrame(columns = [\"ImageId\", \"MaskId\"])"
   ]
  },
  {
   "cell_type": "code",
   "execution_count": 101,
   "id": "24b85006",
   "metadata": {
    "scrolled": true
   },
   "outputs": [],
   "source": [
    "for val in val_index:\n",
    "    val_data = pd.concat([val_data, data_df[data_df.Id == client_ids[val]][[\"ImageId\", \"MaskId\"]]])"
   ]
  },
  {
   "cell_type": "code",
   "execution_count": 102,
   "id": "1030d83b",
   "metadata": {},
   "outputs": [
    {
     "data": {
      "text/html": [
       "<div>\n",
       "<style scoped>\n",
       "    .dataframe tbody tr th:only-of-type {\n",
       "        vertical-align: middle;\n",
       "    }\n",
       "\n",
       "    .dataframe tbody tr th {\n",
       "        vertical-align: top;\n",
       "    }\n",
       "\n",
       "    .dataframe thead th {\n",
       "        text-align: right;\n",
       "    }\n",
       "</style>\n",
       "<table border=\"1\" class=\"dataframe\">\n",
       "  <thead>\n",
       "    <tr style=\"text-align: right;\">\n",
       "      <th></th>\n",
       "      <th>ImageId</th>\n",
       "      <th>MaskId</th>\n",
       "    </tr>\n",
       "  </thead>\n",
       "  <tbody>\n",
       "    <tr>\n",
       "      <th>0</th>\n",
       "      <td>ID00007637202177411956430_0.jpg</td>\n",
       "      <td>ID00007637202177411956430_mask_0.jpg</td>\n",
       "    </tr>\n",
       "    <tr>\n",
       "      <th>1</th>\n",
       "      <td>ID00007637202177411956430_1.jpg</td>\n",
       "      <td>ID00007637202177411956430_mask_1.jpg</td>\n",
       "    </tr>\n",
       "    <tr>\n",
       "      <th>2</th>\n",
       "      <td>ID00007637202177411956430_2.jpg</td>\n",
       "      <td>ID00007637202177411956430_mask_2.jpg</td>\n",
       "    </tr>\n",
       "    <tr>\n",
       "      <th>3</th>\n",
       "      <td>ID00007637202177411956430_3.jpg</td>\n",
       "      <td>ID00007637202177411956430_mask_3.jpg</td>\n",
       "    </tr>\n",
       "    <tr>\n",
       "      <th>4</th>\n",
       "      <td>ID00007637202177411956430_4.jpg</td>\n",
       "      <td>ID00007637202177411956430_mask_4.jpg</td>\n",
       "    </tr>\n",
       "    <tr>\n",
       "      <th>...</th>\n",
       "      <td>...</td>\n",
       "      <td>...</td>\n",
       "    </tr>\n",
       "    <tr>\n",
       "      <th>16295</th>\n",
       "      <td>ID00423637202312137826377_285.jpg</td>\n",
       "      <td>ID00423637202312137826377_mask_285.jpg</td>\n",
       "    </tr>\n",
       "    <tr>\n",
       "      <th>16296</th>\n",
       "      <td>ID00423637202312137826377_286.jpg</td>\n",
       "      <td>ID00423637202312137826377_mask_286.jpg</td>\n",
       "    </tr>\n",
       "    <tr>\n",
       "      <th>16297</th>\n",
       "      <td>ID00423637202312137826377_287.jpg</td>\n",
       "      <td>ID00423637202312137826377_mask_287.jpg</td>\n",
       "    </tr>\n",
       "    <tr>\n",
       "      <th>16298</th>\n",
       "      <td>ID00423637202312137826377_288.jpg</td>\n",
       "      <td>ID00423637202312137826377_mask_288.jpg</td>\n",
       "    </tr>\n",
       "    <tr>\n",
       "      <th>16299</th>\n",
       "      <td>ID00423637202312137826377_289.jpg</td>\n",
       "      <td>ID00423637202312137826377_mask_289.jpg</td>\n",
       "    </tr>\n",
       "  </tbody>\n",
       "</table>\n",
       "<p>12081 rows × 2 columns</p>\n",
       "</div>"
      ],
      "text/plain": [
       "                                 ImageId  \\\n",
       "0        ID00007637202177411956430_0.jpg   \n",
       "1        ID00007637202177411956430_1.jpg   \n",
       "2        ID00007637202177411956430_2.jpg   \n",
       "3        ID00007637202177411956430_3.jpg   \n",
       "4        ID00007637202177411956430_4.jpg   \n",
       "...                                  ...   \n",
       "16295  ID00423637202312137826377_285.jpg   \n",
       "16296  ID00423637202312137826377_286.jpg   \n",
       "16297  ID00423637202312137826377_287.jpg   \n",
       "16298  ID00423637202312137826377_288.jpg   \n",
       "16299  ID00423637202312137826377_289.jpg   \n",
       "\n",
       "                                       MaskId  \n",
       "0        ID00007637202177411956430_mask_0.jpg  \n",
       "1        ID00007637202177411956430_mask_1.jpg  \n",
       "2        ID00007637202177411956430_mask_2.jpg  \n",
       "3        ID00007637202177411956430_mask_3.jpg  \n",
       "4        ID00007637202177411956430_mask_4.jpg  \n",
       "...                                       ...  \n",
       "16295  ID00423637202312137826377_mask_285.jpg  \n",
       "16296  ID00423637202312137826377_mask_286.jpg  \n",
       "16297  ID00423637202312137826377_mask_287.jpg  \n",
       "16298  ID00423637202312137826377_mask_288.jpg  \n",
       "16299  ID00423637202312137826377_mask_289.jpg  \n",
       "\n",
       "[12081 rows x 2 columns]"
      ]
     },
     "execution_count": 102,
     "metadata": {},
     "output_type": "execute_result"
    }
   ],
   "source": [
    "train_data"
   ]
  },
  {
   "cell_type": "code",
   "execution_count": 103,
   "id": "f4c8bdac",
   "metadata": {
    "scrolled": true
   },
   "outputs": [
    {
     "data": {
      "text/html": [
       "<div>\n",
       "<style scoped>\n",
       "    .dataframe tbody tr th:only-of-type {\n",
       "        vertical-align: middle;\n",
       "    }\n",
       "\n",
       "    .dataframe tbody tr th {\n",
       "        vertical-align: top;\n",
       "    }\n",
       "\n",
       "    .dataframe thead th {\n",
       "        text-align: right;\n",
       "    }\n",
       "</style>\n",
       "<table border=\"1\" class=\"dataframe\">\n",
       "  <thead>\n",
       "    <tr style=\"text-align: right;\">\n",
       "      <th></th>\n",
       "      <th>ImageId</th>\n",
       "      <th>MaskId</th>\n",
       "    </tr>\n",
       "  </thead>\n",
       "  <tbody>\n",
       "    <tr>\n",
       "      <th>10089</th>\n",
       "      <td>ID00232637202260377586117_0.jpg</td>\n",
       "      <td>ID00232637202260377586117_mask_0.jpg</td>\n",
       "    </tr>\n",
       "    <tr>\n",
       "      <th>10090</th>\n",
       "      <td>ID00232637202260377586117_1.jpg</td>\n",
       "      <td>ID00232637202260377586117_mask_1.jpg</td>\n",
       "    </tr>\n",
       "    <tr>\n",
       "      <th>10091</th>\n",
       "      <td>ID00232637202260377586117_2.jpg</td>\n",
       "      <td>ID00232637202260377586117_mask_2.jpg</td>\n",
       "    </tr>\n",
       "    <tr>\n",
       "      <th>10092</th>\n",
       "      <td>ID00232637202260377586117_3.jpg</td>\n",
       "      <td>ID00232637202260377586117_mask_3.jpg</td>\n",
       "    </tr>\n",
       "    <tr>\n",
       "      <th>10093</th>\n",
       "      <td>ID00232637202260377586117_4.jpg</td>\n",
       "      <td>ID00232637202260377586117_mask_4.jpg</td>\n",
       "    </tr>\n",
       "    <tr>\n",
       "      <th>...</th>\n",
       "      <td>...</td>\n",
       "      <td>...</td>\n",
       "    </tr>\n",
       "    <tr>\n",
       "      <th>16703</th>\n",
       "      <td>ID00426637202313170790466_403.jpg</td>\n",
       "      <td>ID00426637202313170790466_mask_403.jpg</td>\n",
       "    </tr>\n",
       "    <tr>\n",
       "      <th>16704</th>\n",
       "      <td>ID00426637202313170790466_404.jpg</td>\n",
       "      <td>ID00426637202313170790466_mask_404.jpg</td>\n",
       "    </tr>\n",
       "    <tr>\n",
       "      <th>16705</th>\n",
       "      <td>ID00426637202313170790466_405.jpg</td>\n",
       "      <td>ID00426637202313170790466_mask_405.jpg</td>\n",
       "    </tr>\n",
       "    <tr>\n",
       "      <th>16706</th>\n",
       "      <td>ID00426637202313170790466_406.jpg</td>\n",
       "      <td>ID00426637202313170790466_mask_406.jpg</td>\n",
       "    </tr>\n",
       "    <tr>\n",
       "      <th>16707</th>\n",
       "      <td>ID00426637202313170790466_407.jpg</td>\n",
       "      <td>ID00426637202313170790466_mask_407.jpg</td>\n",
       "    </tr>\n",
       "  </tbody>\n",
       "</table>\n",
       "<p>4627 rows × 2 columns</p>\n",
       "</div>"
      ],
      "text/plain": [
       "                                 ImageId  \\\n",
       "10089    ID00232637202260377586117_0.jpg   \n",
       "10090    ID00232637202260377586117_1.jpg   \n",
       "10091    ID00232637202260377586117_2.jpg   \n",
       "10092    ID00232637202260377586117_3.jpg   \n",
       "10093    ID00232637202260377586117_4.jpg   \n",
       "...                                  ...   \n",
       "16703  ID00426637202313170790466_403.jpg   \n",
       "16704  ID00426637202313170790466_404.jpg   \n",
       "16705  ID00426637202313170790466_405.jpg   \n",
       "16706  ID00426637202313170790466_406.jpg   \n",
       "16707  ID00426637202313170790466_407.jpg   \n",
       "\n",
       "                                       MaskId  \n",
       "10089    ID00232637202260377586117_mask_0.jpg  \n",
       "10090    ID00232637202260377586117_mask_1.jpg  \n",
       "10091    ID00232637202260377586117_mask_2.jpg  \n",
       "10092    ID00232637202260377586117_mask_3.jpg  \n",
       "10093    ID00232637202260377586117_mask_4.jpg  \n",
       "...                                       ...  \n",
       "16703  ID00426637202313170790466_mask_403.jpg  \n",
       "16704  ID00426637202313170790466_mask_404.jpg  \n",
       "16705  ID00426637202313170790466_mask_405.jpg  \n",
       "16706  ID00426637202313170790466_mask_406.jpg  \n",
       "16707  ID00426637202313170790466_mask_407.jpg  \n",
       "\n",
       "[4627 rows x 2 columns]"
      ]
     },
     "execution_count": 103,
     "metadata": {},
     "output_type": "execute_result"
    }
   ],
   "source": [
    "val_data"
   ]
  },
  {
   "cell_type": "code",
   "execution_count": 105,
   "id": "8e0554f9",
   "metadata": {},
   "outputs": [],
   "source": [
    "train_data.to_csv(\"train.csv\")\n",
    "val_data.to_csv(\"val.csv\")"
   ]
  },
  {
   "cell_type": "code",
   "execution_count": 11,
   "id": "5f11a038",
   "metadata": {},
   "outputs": [
    {
     "data": {
      "image/png": "[encoded data removed]",
      "text/plain": [
       "<Figure size 800x600 with 2 Axes>"
      ]
     },
     "metadata": {},
     "output_type": "display_data"
    }
   ],
   "source": [
    "# segmentation 기법에서는 jpg 파일보다는 무손실 압축파일 방법인 png 혹은 array 형태로 저장하는게 좋음\n",
    "sub_index = 2\n",
    "img_name, mask_name = client_data.iloc[sub_index].values\n",
    "img_path = os.path.join(data_dir, \"images/images\", img_name)\n",
    "mask_path = os.path.join(data_dir, \"masks/masks\", mask_name)\n",
    "\n",
    "image = cv2.imread(img_path)\n",
    "mask = cv2.imread(mask_path)\n",
    "thres = 240\n",
    "mask[mask < thres] = 0\n",
    "mask[mask >= thres] = 255\n",
    "\n",
    "plt.figure(figsize=(8,6))\n",
    "plt.subplot(121)\n",
    "plt.title(\"image\")\n",
    "plt.imshow(image)\n",
    "\n",
    "plt.subplot(122)\n",
    "plt.title(\"mask\")\n",
    "plt.imshow(mask)\n",
    "plt.tight_layout()"
   ]
  },
  {
   "cell_type": "code",
   "execution_count": 12,
   "id": "c0c21853",
   "metadata": {},
   "outputs": [
    {
     "data": {
      "text/plain": [
       "array([  0, 255], dtype=uint8)"
      ]
     },
     "execution_count": 12,
     "metadata": {},
     "output_type": "execute_result"
    }
   ],
   "source": [
    "np.unique(mask)"
   ]
  },
  {
   "cell_type": "code",
   "execution_count": 13,
   "id": "fef0995b",
   "metadata": {},
   "outputs": [
    {
     "data": {
      "text/plain": [
       "Text(0.5, 1.0, 'trachea')"
      ]
     },
     "execution_count": 13,
     "metadata": {},
     "output_type": "execute_result"
    },
    {
     "data": {
      "image/png": "[encoded data removed]",
      "text/plain": [
       "<Figure size 1200x800 with 3 Axes>"
      ]
     },
     "metadata": {},
     "output_type": "display_data"
    }
   ],
   "source": [
    "plt.figure(figsize=(12,8))\n",
    "plt.subplot(131)\n",
    "plt.imshow(mask[..., 0])\n",
    "plt.title(\"Lung\")\n",
    "\n",
    "plt.subplot(132)\n",
    "plt.imshow(mask[..., 1])\n",
    "plt.title(\"Heart\")\n",
    "\n",
    "plt.subplot(133)\n",
    "plt.imshow(mask[..., 2])\n",
    "plt.title(\"trachea\")"
   ]
  },
  {
   "cell_type": "code",
   "execution_count": 14,
   "id": "cdf705bd",
   "metadata": {},
   "outputs": [],
   "source": [
    "def get_client_data(data_df, index):\n",
    "    client_ids = np.unique(data_df.Id.values)\n",
    "    client_id = client_ids[index]\n",
    "    client_data = data_df[data_df.Id == client_id]\n",
    "    image_files = list(client_data[\"ImageId\"])\n",
    "    mask_files = list(client_data[\"MaskId\"])\n",
    "    return client_id, image_files, mask_files"
   ]
  },
  {
   "cell_type": "code",
   "execution_count": 15,
   "id": "d33bed59",
   "metadata": {},
   "outputs": [],
   "source": [
    "regions = [\"background\", \"trachea\", \"heart\", \"lung\"]\n",
    "colors = ((0,0,0), (255,0,0), (0,255,0), (0,0,255)) # opencv는 BGR순으로 되어 있음"
   ]
  },
  {
   "cell_type": "code",
   "execution_count": 28,
   "id": "9bff616b",
   "metadata": {},
   "outputs": [],
   "source": [
    "index = 0\n",
    "client_id, image_files, mask_files = get_client_data(data_df, index)\n",
    "\n",
    "canvas = np.zeros(shape=(512, 2*512+50, 3), dtype=np.uint8) # 기본적으로 영상을 출력할 때는 8비트로 진행\n",
    "\n",
    "for i in range(len(image_files)):\n",
    "    image = cv2.imread(os.path.join(data_dir, \"images/images\", image_files[i]))\n",
    "    image = cv2.cvtColor(image, cv2.COLOR_BGR2RGB)\n",
    "    mask = cv2.imread(os.path.join(data_dir, \"masks/masks\", mask_files[i]))\n",
    "    mask = cv2.cvtColor(mask, cv2.COLOR_BGR2RGB)\n",
    "    thres = 240\n",
    "    mask[mask < thres] = 0\n",
    "    mask[mask >= thres] = 255\n",
    "    \n",
    "    canvas[:, 0:512, :] = image\n",
    "    canvas[:, 512+50:2*512+50, :] = mask\n",
    "    \n",
    "    text_buff = 410 \n",
    "    for j in range(1, len(regions)): # 백그라운드 제외 기도,심장,폐로 삽입 putText\n",
    "        # cv2.putText(이미지, 내용, 좌표, 폰트, 폰트 크기, 색깔, 두께)\n",
    "        cv2.putText(canvas, f'{regions[j].upper()}', (900, text_buff), cv2.FONT_HERSHEY_SIMPLEX, 1, colors[j], 2)\n",
    "        text_buff += 40\n",
    "        \n",
    "    cv2.imshow(\"CT frames\", canvas)\n",
    "    key = cv2.waitKey(60)\n",
    "    if key == 27:\n",
    "        break\n",
    "\n",
    "cv2.destroyAllWindows()"
   ]
  },
  {
   "cell_type": "code",
   "execution_count": 21,
   "id": "bd017a43",
   "metadata": {},
   "outputs": [
    {
     "data": {
      "text/plain": [
       "(512, 1074, 3)"
      ]
     },
     "execution_count": 21,
     "metadata": {},
     "output_type": "execute_result"
    }
   ],
   "source": [
    "canvas.shape"
   ]
  },
  {
   "cell_type": "markdown",
   "id": "2d72943e",
   "metadata": {},
   "source": [
    "# 데이터셋 train, test로 나누기\n",
    "\n",
    "train = [0, 1, 2, 3, 5, 7, 8, 9, 10, 11, 13, 16, 19, 20, 21, 22, 23, 25, 27, 28, 29, 30, 31, 32, 34, 36, 37, 38, 39, 41, 42, 43, 44, 45, 49, 50, 51, 52, 53, 54, 55, 56, 57, 58, 59, 63, 64, 66, 67, 68, 70, 71, 72, 74, 75, 76, 77, 80, 81, 82, 83, 86, 87, 89, 90, 91, 93, 94, 96, 97, 99, 100, 101, 102, 104, 105, 106, 109, 110]\n",
    "\n",
    "\n",
    "val = [ 62,  88,  84,  24,  12,  73,  18,   6,  65,  47,  26,  46, 103,\n",
    "       107,  14,   4,  79,  35,  69,  61,  15,  78,  17,  40,  33, 108,\n",
    "        95,  60,  48,  92,  85,  98, 111]"
   ]
  },
  {
   "cell_type": "code",
   "execution_count": 48,
   "id": "14795f44",
   "metadata": {},
   "outputs": [],
   "source": [
    "images_path = \"./archive/images/images\"\n",
    "masks_path = \"./archive/masks/masks\""
   ]
  },
  {
   "cell_type": "code",
   "execution_count": 45,
   "id": "785cfb04",
   "metadata": {},
   "outputs": [
    {
     "name": "stdout",
     "output_type": "stream",
     "text": [
      "17011\n",
      "16708\n"
     ]
    }
   ],
   "source": [
    "print(len(os.listdir(image_dir)))\n",
    "print(len(os.listdir(mask_dir)))"
   ]
  },
  {
   "cell_type": "code",
   "execution_count": 148,
   "id": "dd086a87",
   "metadata": {},
   "outputs": [],
   "source": [
    "images_dir = os.listdir(images_path)\n",
    "masks_dir = os.listdir(masks_path)"
   ]
  },
  {
   "cell_type": "code",
   "execution_count": 149,
   "id": "53e3ec0b",
   "metadata": {},
   "outputs": [],
   "source": [
    "train_data = pd.read_csv(\"./archive/train.csv\")\n",
    "val_data = pd.read_csv(\"./archive/val.csv\")"
   ]
  },
  {
   "cell_type": "code",
   "execution_count": 152,
   "id": "2206dbd2",
   "metadata": {},
   "outputs": [],
   "source": [
    "import shutil \n",
    "\n",
    "image_dir = \"./archive/images/images/\"\n",
    "mask_dir = \"./archive/masks/masks/\"\n",
    "des_image_dir = \"./archive/train/images/\"\n",
    "des_mask_dir = \"./archive/train/masks/\"\n",
    "\n",
    "for i in range(1, len(train_data)):\n",
    "    image_start = image_dir + train_data.loc[i][\"ImageId\"]\n",
    "    mask_start = mask_dir + train_data.loc[i][\"MaskId\"]\n",
    "    image_des = des_image_dir + train_data.loc[i][\"ImageId\"]\n",
    "    mask_des = des_mask_dir + train_data.loc[i][\"MaskId\"]\n",
    "    \n",
    "    shutil.move(image_start, image_des)\n",
    "    shutil.move(mask_start, mask_des)"
   ]
  },
  {
   "cell_type": "code",
   "execution_count": 153,
   "id": "0b701eee",
   "metadata": {},
   "outputs": [],
   "source": [
    "image_dir = \"./archive/images/images/\"\n",
    "mask_dir = \"./archive/masks/masks/\"\n",
    "des_image_dir = \"./archive/val/images/\"\n",
    "des_mask_dir = \"./archive/val/masks/\"\n",
    "\n",
    "for i in range(0, len(val_data)):\n",
    "    image_start = image_dir + val_data.loc[i][\"ImageId\"]\n",
    "    mask_start = mask_dir + val_data.loc[i][\"MaskId\"]\n",
    "    image_des = des_image_dir + val_data.loc[i][\"ImageId\"]\n",
    "    mask_des = des_mask_dir + val_data.loc[i][\"MaskId\"]\n",
    "    \n",
    "    shutil.move(image_start, image_des)\n",
    "    shutil.move(mask_start, mask_des)"
   ]
  },
  {
   "cell_type": "markdown",
   "id": "139b0b99",
   "metadata": {},
   "source": [
    "# 2. 데이터셋 구축과 연산을 위한 텐서변환 모듈 작성하기"
   ]
  },
  {
   "cell_type": "code",
   "execution_count": 159,
   "id": "6a72c1d6",
   "metadata": {},
   "outputs": [],
   "source": [
    "import torch"
   ]
  },
  {
   "cell_type": "code",
   "execution_count": 160,
   "id": "702de5e5",
   "metadata": {},
   "outputs": [],
   "source": [
    "data_dir = \"./archive/\""
   ]
  },
  {
   "cell_type": "code",
   "execution_count": 161,
   "id": "04c0b240",
   "metadata": {},
   "outputs": [],
   "source": [
    "IMAGE_SIZE = 224"
   ]
  },
  {
   "cell_type": "code",
   "execution_count": 185,
   "id": "0ca57c1c",
   "metadata": {},
   "outputs": [],
   "source": [
    "class CT_dataset():\n",
    "    def __init__(self, data_dir, phase, transformer=None):\n",
    "        self.phase = phase\n",
    "        self.images_dir = os.path.join(data_dir, phase, \"images\")\n",
    "        self.masks_dir = os.path.join(data_dir, phase, \"masks\")\n",
    "        self.image_files = [filename for filename in os.listdir(self.images_dir) if filename.endswith(\"jpg\")]\n",
    "        self.mask_files = [filename for filename in os.listdir(self.masks_dir) if filename.endswith(\"jpg\")]\n",
    "        assert len(self.image_files) == len(self.mask_files)\n",
    "        \n",
    "        self.transformer = transformer\n",
    "        \n",
    "    def __len__(self):\n",
    "        return len(self.image_files)\n",
    "    \n",
    "    def __getitem__(self, index):\n",
    "        image = cv2.imread(os.path.join(self.images_dir, self.image_files[index]))\n",
    "        image = cv2.resize(image, dsize = (IMAGE_SIZE, IMAGE_SIZE), interpolation = cv2.INTER_LINEAR)\n",
    "        mask = cv2.imread(os.path.join(self.masks_dir, self.mask_files[index]))\n",
    "        mask = cv2.resize(mask, dsize = (IMAGE_SIZE, IMAGE_SIZE), interpolation = cv2.INTER_NEAREST) # 마스크에서는 비선형 보간법을 적용해야 함 -> 선형법으로 할 경우 segmentation 할 때 분류할 타겟값에 오류가 생김\n",
    "        \n",
    "        mask[mask < 240] = 0\n",
    "        mask[mask >= 240] = 255\n",
    "        mask = mask / 255. # mask normalize\n",
    "        \n",
    "        mask_H, mask_W, mask_C = mask.shape\n",
    "        background = np.ones(shape=(mask_H, mask_W))\n",
    "        background[mask[..., 0] != 0] = 0 # mask[..., 0] \n",
    "        background[mask[..., 1] != 0] = 0\n",
    "        background[mask[..., 2] != 0] = 0\n",
    "        mask = np.concatenate([np.expand_dims(background, axis=-1), mask], axis= -1)\n",
    "        mask = np.argmax(mask, axis=-1, keepdims=False)\n",
    "        \n",
    "        if self.transformer:\n",
    "            image = self.transformer(image)\n",
    "        \n",
    "        target = torch.from_numpy(mask).long()\n",
    "        return image, target"
   ]
  },
  {
   "cell_type": "code",
   "execution_count": 190,
   "id": "a0534c71",
   "metadata": {},
   "outputs": [],
   "source": [
    "from torchvision import transforms\n",
    "\n",
    "def build_transformer():\n",
    "    transformer = transforms.Compose([\n",
    "        transforms.ToTensor(),\n",
    "        transforms.Normalize([0.485, 0.456, 0.406], std=[0.229, 0.224, 0.225])\n",
    "    ])\n",
    "    return transformer"
   ]
  },
  {
   "cell_type": "code",
   "execution_count": 207,
   "id": "4846f90b",
   "metadata": {},
   "outputs": [],
   "source": [
    "def collate_fn(batch):\n",
    "    images = []\n",
    "    targets = []\n",
    "    for a, b in batch:\n",
    "        images.append(a)\n",
    "        targets.append(b)\n",
    "    images = torch.stack(images, dim=0) # 배치차원 형태로 붙임\n",
    "    targets = torch.stack(targets, dim=0)\n",
    "    return images, targets"
   ]
  },
  {
   "cell_type": "code",
   "execution_count": 208,
   "id": "4ae8939f",
   "metadata": {},
   "outputs": [],
   "source": [
    "data_dir = \"./archive\"\n",
    "transformer = build_transformer()\n",
    "dset = CT_dataset(data_dir=data_dir, phase=\"train\", transformer=transformer)"
   ]
  },
  {
   "cell_type": "code",
   "execution_count": 209,
   "id": "33077dec",
   "metadata": {},
   "outputs": [
    {
     "name": "stdout",
     "output_type": "stream",
     "text": [
      "image shape: torch.Size([3, 224, 224])\n",
      "target shape: torch.Size([224, 224])\n"
     ]
    }
   ],
   "source": [
    "image, target = dset[0]\n",
    "print(f\"image shape: {image.shape}\") # transformer 를 거쳐 torch 형태로 나옴\n",
    "print(f\"target shape: {target.shape}\")"
   ]
  },
  {
   "cell_type": "code",
   "execution_count": 210,
   "id": "e67bee11",
   "metadata": {},
   "outputs": [],
   "source": [
    "from torch.utils.data import DataLoader"
   ]
  },
  {
   "cell_type": "code",
   "execution_count": 214,
   "id": "90189e9e",
   "metadata": {},
   "outputs": [],
   "source": [
    "dloader = DataLoader(dset, batch_size=8, shuffle=True, collate_fn=collate_fn)"
   ]
  },
  {
   "cell_type": "code",
   "execution_count": 215,
   "id": "5709f1fd",
   "metadata": {},
   "outputs": [
    {
     "name": "stdout",
     "output_type": "stream",
     "text": [
      "image shape: torch.Size([8, 3, 224, 224])\n",
      "target shape: torch.Size([8, 224, 224])\n"
     ]
    }
   ],
   "source": [
    "for index, batch in enumerate(dloader):\n",
    "    images = batch[0]\n",
    "    targets = batch[1]\n",
    "    print(f\"image shape: {images.shape}\")\n",
    "    print(f\"target shape: {targets.shape}\")\n",
    "    \n",
    "    if index == 0:\n",
    "        break"
   ]
  },
  {
   "cell_type": "code",
   "execution_count": 216,
   "id": "298686cb",
   "metadata": {},
   "outputs": [],
   "source": [
    "def build_dataloader(data_dir, batch_size=4):\n",
    "    transformer = build_transformer()\n",
    "    \n",
    "    dataloaders = {}\n",
    "    train_dataset = CT_dataset(data_dir=data_dir, phase=\"train\", transformer=transformer)\n",
    "    dataloaders[\"train\"] = DataLoader(train_dataset, batch_size=batch_size, shuffle=True, collate_fn=collate_fn)\n",
    "    \n",
    "    val_dataset = CT_dataset(data_dir=data_dir, phase=\"val\", transformer=transformer)\n",
    "    dataloaders[\"val\"] = DataLoader(val_dataset, batch_size=batch_size, shuffle=True, collate_fn=collate_fn)\n",
    "    return dataloaders"
   ]
  },
  {
   "cell_type": "code",
   "execution_count": 217,
   "id": "9a8adc93",
   "metadata": {},
   "outputs": [],
   "source": [
    "dataloaders = build_dataloader(data_dir=data_dir)"
   ]
  },
  {
   "cell_type": "code",
   "execution_count": 218,
   "id": "14f3301a",
   "metadata": {},
   "outputs": [
    {
     "data": {
      "text/plain": [
       "{'train': <torch.utils.data.dataloader.DataLoader at 0x1e338d12e60>,\n",
       " 'val': <torch.utils.data.dataloader.DataLoader at 0x1e338d12320>}"
      ]
     },
     "execution_count": 218,
     "metadata": {},
     "output_type": "execute_result"
    }
   ],
   "source": [
    "dataloaders"
   ]
  },
  {
   "cell_type": "code",
   "execution_count": 219,
   "id": "ef7d32d7",
   "metadata": {},
   "outputs": [
    {
     "name": "stdout",
     "output_type": "stream",
     "text": [
      "images shape: torch.Size([4, 3, 224, 224])\n",
      "targets shape: torch.Size([4, 224, 224])\n",
      "images shape: torch.Size([4, 3, 224, 224])\n",
      "targets shape: torch.Size([4, 224, 224])\n"
     ]
    }
   ],
   "source": [
    "for phase in [\"train\", \"val\"]:\n",
    "    for index, batch in enumerate(dataloaders[phase]):\n",
    "        images = batch[0]\n",
    "        targets = batch[1]\n",
    "        print(f\"images shape: {images.shape}\")\n",
    "        print(f\"targets shape: {targets.shape}\")\n",
    "        \n",
    "        if index == 0:\n",
    "            break"
   ]
  },
  {
   "cell_type": "code",
   "execution_count": null,
   "id": "cf63a424",
   "metadata": {},
   "outputs": [],
   "source": []
  }
 ],
 "metadata": {
  "kernelspec": {
   "display_name": "Python 3 (ipykernel)",
   "language": "python",
   "name": "python3"
  },
  "language_info": {
   "codemirror_mode": {
    "name": "ipython",
    "version": 3
   },
   "file_extension": ".py",
   "mimetype": "text/x-python",
   "name": "python",
   "nbconvert_exporter": "python",
   "pygments_lexer": "ipython3",
   "version": "3.10.8"
  }
 },
 "nbformat": 4,
 "nbformat_minor": 5
}
